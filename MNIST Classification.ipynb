{
 "cells": [
  {
   "cell_type": "code",
   "execution_count": 1,
   "id": "88cbde34",
   "metadata": {},
   "outputs": [
    {
     "name": "stderr",
     "output_type": "stream",
     "text": [
      "/Users/nil/opt/anaconda3/lib/python3.9/site-packages/torchvision/io/image.py:13: UserWarning: Failed to load image Python extension: dlopen(/Users/nil/opt/anaconda3/lib/python3.9/site-packages/torchvision/image.so, 6): Library not loaded: @rpath/libjpeg.9.dylib\n",
      "  Referenced from: /Users/nil/opt/anaconda3/lib/python3.9/site-packages/torchvision/image.so\n",
      "  Reason: Incompatible library version: image.so requires version 15.0.0 or later, but libjpeg.9.dylib provides version 14.0.0\n",
      "  warn(f\"Failed to load image Python extension: {e}\")\n"
     ]
    }
   ],
   "source": [
    "import torch\n",
    "import torch.nn as nn\n",
    "import torchvision\n",
    "import torchvision.transforms as transforms\n",
    "import matplotlib.pyplot as plt\n"
   ]
  },
  {
   "cell_type": "code",
   "execution_count": 2,
   "id": "a5d9a698",
   "metadata": {},
   "outputs": [],
   "source": [
    "from torch.utils.data import Subset\n",
    "\n",
    "train_data = torchvision.datasets.MNIST(\n",
    "    root='data',\n",
    "    train=True,\n",
    "    transform=transforms.ToTensor(),\n",
    "    download=True\n",
    ")\n",
    "\n",
    "test_data = torchvision.datasets.MNIST(\n",
    "    root='data',\n",
    "    train=False,\n",
    "    transform=transforms.ToTensor(),\n",
    "    download=True\n",
    ")"
   ]
  },
  {
   "cell_type": "code",
   "execution_count": 3,
   "id": "6102a38a",
   "metadata": {},
   "outputs": [],
   "source": [
    "train_size = 60000\n",
    "test_size = 10000\n",
    "train_dataset = Subset(train_data, indices=range(len(train_data) // 10))\n",
    "test_dataset = Subset(train_data, indices=range(len(test_data) // 10))"
   ]
  },
  {
   "cell_type": "code",
   "execution_count": 4,
   "id": "73656309",
   "metadata": {},
   "outputs": [],
   "source": [
    "\n",
    "train_loader = torch.utils.data.DataLoader(dataset=train_dataset, \n",
    "                                           batch_size=100, \n",
    "                                           shuffle=True)\n",
    "test_loader = torch.utils.data.DataLoader(dataset=test_dataset, \n",
    "                                          batch_size=100, \n",
    "                                          shuffle=False)"
   ]
  },
  {
   "cell_type": "code",
   "execution_count": 5,
   "id": "79137a35",
   "metadata": {},
   "outputs": [
    {
     "data": {
      "image/png": "[encoded data removed]",
      "text/plain": [
       "<Figure size 720x360 with 10 Axes>"
      ]
     },
     "metadata": {
      "needs_background": "light"
     },
     "output_type": "display_data"
    }
   ],
   "source": [
    "examples = iter(test_loader)\n",
    "example_data, example_targets = next(examples)\n",
    "\n",
    "\n",
    "params = {\"text.color\" : \"blue\",\n",
    "          \"xtick.color\" : \"black\",\n",
    "          \"ytick.color\" : \"black\"}\n",
    "plt.rcParams.update(params)\n",
    "\n",
    "\n",
    "import numpy as np\n",
    "indices = np.random.randint(0, len(test_loader), size=10)\n",
    "\n",
    "\n",
    "fig, axs = plt.subplots(2, 5, figsize=(10, 5))\n",
    "axs = axs.flatten()\n",
    "examples = iter(test_loader)\n",
    "\n",
    "for i, index in enumerate(indices):\n",
    "    \n",
    "\n",
    "    example_data, example_targets = next(examples)\n",
    "    image, label = example_data[index][0], example_targets[index].item()\n",
    "\n",
    "    # Plot the image with its ground truth\n",
    "    axs[i].imshow(image.reshape(28, 28), cmap='gray')\n",
    "    axs[i].set_title(f'GT: {label}')\n",
    "    axs[i].axis('off')\n",
    "\n",
    "plt.tight_layout()\n",
    "plt.show()"
   ]
  },
  {
   "cell_type": "code",
   "execution_count": 6,
   "id": "257a5d00",
   "metadata": {},
   "outputs": [],
   "source": [
    "input_size = 784 \n",
    "hidden_size = 500 \n",
    "num_classes = 10\n",
    "num_epochs = 3\n",
    "batch_size = 100\n",
    "learning_rate = 0.001"
   ]
  },
  {
   "cell_type": "code",
   "execution_count": 7,
   "id": "c8b73466",
   "metadata": {},
   "outputs": [],
   "source": [
    "# Fully connected neural network with one hidden layer\n",
    "\n",
    "\n",
    "\n",
    "class NeuralNet(nn.Module):\n",
    "    \n",
    "    # initializes the neural network and sets its parameters. \n",
    "    # It takes three arguments - input_size, hidden_size, and num_classes \n",
    "    # input_size - the size of the input layer, \n",
    "    # hidden_size - the number of neurons in the hidden layer, \n",
    "    # num_classes - the number of output classes\n",
    "    \n",
    "    def __init__(self, input_size, hidden_size, num_classes):\n",
    "        super(NeuralNet, self).__init__()\n",
    "        self.input_size = input_size\n",
    "\n",
    "       \n",
    "        self.l1 = nn.Linear(input_size, hidden_size)\n",
    "        self.relu = nn.ReLU()\n",
    "        self.l2 = nn.Linear(hidden_size, num_classes)\n",
    " \n",
    "\n",
    "    def forward(self, x):\n",
    "        x = self.l1(x)\n",
    "        x = self.relu(x)\n",
    "        x = self.l2(x)\n",
    "        return x\n",
    "    \n",
    "model = NeuralNet(input_size, hidden_size, num_classes)"
   ]
  },
  {
   "cell_type": "code",
   "execution_count": 8,
   "id": "45e98cab",
   "metadata": {},
   "outputs": [],
   "source": [
    "loss_func = nn.CrossEntropyLoss()\n",
    "optimizer = torch.optim.Adam(model.parameters(), lr=learning_rate)"
   ]
  },
  {
   "cell_type": "code",
   "execution_count": 9,
   "id": "2664c5e4",
   "metadata": {},
   "outputs": [
    {
     "name": "stdout",
     "output_type": "stream",
     "text": [
      "Total Batches in train set: 60\n",
      "Epoch [1/3], Batch [10/60], Loss: 1.5156\n",
      "Epoch [1/3], Batch [20/60], Loss: 0.7899\n",
      "Epoch [1/3], Batch [30/60], Loss: 0.5415\n",
      "Epoch [1/3], Batch [40/60], Loss: 0.3661\n",
      "Epoch [1/3], Batch [50/60], Loss: 0.3244\n",
      "Epoch [1/3], Batch [60/60], Loss: 0.4728\n",
      "Epoch [2/3], Batch [10/60], Loss: 0.3642\n",
      "Epoch [2/3], Batch [20/60], Loss: 0.2914\n",
      "Epoch [2/3], Batch [30/60], Loss: 0.1593\n",
      "Epoch [2/3], Batch [40/60], Loss: 0.1935\n",
      "Epoch [2/3], Batch [50/60], Loss: 0.3553\n",
      "Epoch [2/3], Batch [60/60], Loss: 0.3724\n",
      "Epoch [3/3], Batch [10/60], Loss: 0.1871\n",
      "Epoch [3/3], Batch [20/60], Loss: 0.2955\n",
      "Epoch [3/3], Batch [30/60], Loss: 0.2904\n",
      "Epoch [3/3], Batch [40/60], Loss: 0.1909\n",
      "Epoch [3/3], Batch [50/60], Loss: 0.2439\n",
      "Epoch [3/3], Batch [60/60], Loss: 0.1325\n"
     ]
    }
   ],
   "source": [
    "n_total_batches = len(train_loader)\n",
    "print('Total Batches in train set:', n_total_batches)\n",
    "losses = []\n",
    "\n",
    " \n",
    "for epoch in range(num_epochs):\n",
    "     \n",
    "    for i, (images, labels) in enumerate(train_loader):  \n",
    "        images = images.reshape(-1, 28*28)\n",
    "        outputs = model(images)\n",
    "        loss = loss_func(outputs, labels)\n",
    " \n",
    "        optimizer.zero_grad()\n",
    "        loss.backward()\n",
    "        optimizer.step()\n",
    "        losses.append(loss.item())\n",
    "\n",
    "        if (i+1) % 10 == 0:\n",
    "            print (f'Epoch [{epoch+1}/{num_epochs}], Batch [{i+1}/{n_total_batches}], Loss: {loss.item():.4f}')"
   ]
  },
  {
   "cell_type": "code",
   "execution_count": 10,
   "id": "669bfdf4",
   "metadata": {},
   "outputs": [
    {
     "data": {
      "image/png": "[encoded data removed]",
      "text/plain": [
       "<Figure size 720x360 with 10 Axes>"
      ]
     },
     "metadata": {
      "needs_background": "light"
     },
     "output_type": "display_data"
    }
   ],
   "source": [
    "import numpy as np\n",
    "indices = np.random.randint(0, len(test_loader), size=10)\n",
    "\n",
    "\n",
    "fig, axs = plt.subplots(2, 5, figsize=(10, 5))\n",
    "axs = axs.flatten()\n",
    "examples = iter(test_loader)\n",
    "\n",
    "for i, index in enumerate(indices):\n",
    "    # Get the image and ground truth label\n",
    "\n",
    "    example_data, example_targets = next(examples)\n",
    "    image, label = example_data[index][0], example_targets[index].item()\n",
    "\n",
    "    # Make a prediction with the model\n",
    "    with torch.no_grad():\n",
    "        image = image.reshape(-1, 28*28)\n",
    "\n",
    "        prediction = model(image)\n",
    "        predicted_label = torch.argmax(prediction, dim=1).item()\n",
    "\n",
    "    # Plot the image with its ground truth and predicted labels\n",
    "    axs[i].imshow(image.reshape(28, 28), cmap='gray')\n",
    "    axs[i].set_title(f'GT: {label}, Pred: {predicted_label}')\n",
    "    axs[i].axis('off')\n",
    "\n",
    "plt.tight_layout()\n",
    "plt.show()"
   ]
  },
  {
   "cell_type": "code",
   "execution_count": 11,
   "id": "29e7acea",
   "metadata": {},
   "outputs": [
    {
     "name": "stdout",
     "output_type": "stream",
     "text": [
      "Accuracy of the network on the 1000 test images: 93.5 %\n"
     ]
    }
   ],
   "source": [
    "with torch.no_grad():\n",
    "    n_correct = 0\n",
    "    n_samples = 0\n",
    "    for images, labels in test_loader:\n",
    "        images = images.reshape(-1, 28*28)\n",
    "        outputs = model(images)\n",
    "        # max returns (value ,index)\n",
    "        _, predicted = torch.max(outputs.data, 1)\n",
    "        n_samples += labels.size(0)\n",
    "        n_correct += (predicted == labels).sum().item()\n",
    "\n",
    "    acc = 100.0 * n_correct / n_samples\n",
    "    print(f'Accuracy of the network on the 1000 test images: {acc} %')"
   ]
  },
  {
   "cell_type": "code",
   "execution_count": null,
   "id": "52f8dc09",
   "metadata": {},
   "outputs": [],
   "source": []
  }
 ],
 "metadata": {
  "kernelspec": {
   "display_name": "Python 3 (ipykernel)",
   "language": "python",
   "name": "python3"
  },
  "language_info": {
   "codemirror_mode": {
    "name": "ipython",
    "version": 3
   },
   "file_extension": ".py",
   "mimetype": "text/x-python",
   "name": "python",
   "nbconvert_exporter": "python",
   "pygments_lexer": "ipython3",
   "version": "3.9.7"
  }
 },
 "nbformat": 4,
 "nbformat_minor": 5
}
